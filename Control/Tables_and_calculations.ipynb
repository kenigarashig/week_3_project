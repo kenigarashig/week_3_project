{
 "cells": [
  {
   "cell_type": "code",
   "execution_count": 3,
   "id": "4f4ce36c-e1c1-4a91-ad40-497387f00ac9",
   "metadata": {},
   "outputs": [],
   "source": [
    "import numpy as np\n",
    "import pandas as pd\n",
    "import matplotlib.pyplot as plt\n",
    "import seaborn as sns\n",
    "from scipy.stats import chi2_contingency\n",
    "df=pd.read_csv(\"C:/Users/igara/Ironhack Bootcamp/Bootcamp ironhack week3/Project Week 3/Data/Parking_Violations_Issued_Filtered_calculations.csv\")"
   ]
  },
  {
   "cell_type": "code",
   "execution_count": 4,
   "id": "8430efd5-d8b9-49c6-87c1-903428a03f57",
   "metadata": {},
   "outputs": [
    {
     "data": {
      "text/plain": [
       "Summons Number                         int64\n",
       "Plate ID                              object\n",
       "Registration State                    object\n",
       "Plate Type                            object\n",
       "Issue Date                            object\n",
       "Violation Code                         int64\n",
       "Vehicle Body Type                     object\n",
       "Vehicle Make                          object\n",
       "Issuing Agency                        object\n",
       "Street Code1                           int64\n",
       "Violation In Front Of Or Opposite     object\n",
       "Street                                object\n",
       "Law Section                          float64\n",
       "Vehicle Color                         object\n",
       "dtype: object"
      ]
     },
     "execution_count": 4,
     "metadata": {},
     "output_type": "execute_result"
    }
   ],
   "source": [
    "df.dtypes"
   ]
  },
  {
   "cell_type": "code",
   "execution_count": 5,
   "id": "ea5f1a70-70f2-489d-ae3d-632676d690c2",
   "metadata": {},
   "outputs": [
    {
     "data": {
      "text/plain": [
       "(9093969, 14)"
      ]
     },
     "execution_count": 5,
     "metadata": {},
     "output_type": "execute_result"
    }
   ],
   "source": [
    "df.shape"
   ]
  },
  {
   "cell_type": "code",
   "execution_count": 6,
   "id": "daa256c7-46a6-41f3-9398-78133ad15e27",
   "metadata": {},
   "outputs": [],
   "source": [
    "df_cal=df.copy()"
   ]
  },
  {
   "cell_type": "code",
   "execution_count": 7,
   "id": "a0cb0536-ab36-4b5c-8ac8-f533891b0004",
   "metadata": {},
   "outputs": [],
   "source": [
    "df_cal[\"Month\"]=pd.to_datetime(df_cal[\"Issue Date\"]).dt.month"
   ]
  },
  {
   "cell_type": "code",
   "execution_count": 8,
   "id": "c8293921-09da-436e-8c00-af292ee3cc07",
   "metadata": {},
   "outputs": [],
   "source": [
    "df_cal[\"Day\"]=pd.to_datetime(df_cal[\"Issue Date\"]).dt.day"
   ]
  },
  {
   "cell_type": "code",
   "execution_count": 9,
   "id": "227e977a-7354-4626-8617-92fa05b20ba2",
   "metadata": {},
   "outputs": [],
   "source": [
    "df_mm=pd.DataFrame(df_cal.groupby(\"Month\")[\"Violation Code\"].count()).reset_index()"
   ]
  },
  {
   "cell_type": "code",
   "execution_count": 10,
   "id": "5242ac19-565f-4124-93d8-a9b11a12b89b",
   "metadata": {},
   "outputs": [
    {
     "data": {
      "text/html": [
       "<div>\n",
       "<style scoped>\n",
       "    .dataframe tbody tr th:only-of-type {\n",
       "        vertical-align: middle;\n",
       "    }\n",
       "\n",
       "    .dataframe tbody tr th {\n",
       "        vertical-align: top;\n",
       "    }\n",
       "\n",
       "    .dataframe thead th {\n",
       "        text-align: right;\n",
       "    }\n",
       "</style>\n",
       "<table border=\"1\" class=\"dataframe\">\n",
       "  <thead>\n",
       "    <tr style=\"text-align: right;\">\n",
       "      <th></th>\n",
       "      <th>Month</th>\n",
       "      <th>Violation Code</th>\n",
       "    </tr>\n",
       "  </thead>\n",
       "  <tbody>\n",
       "    <tr>\n",
       "      <th>0</th>\n",
       "      <td>1</td>\n",
       "      <td>720452</td>\n",
       "    </tr>\n",
       "    <tr>\n",
       "      <th>1</th>\n",
       "      <td>2</td>\n",
       "      <td>653747</td>\n",
       "    </tr>\n",
       "    <tr>\n",
       "      <th>2</th>\n",
       "      <td>3</td>\n",
       "      <td>907044</td>\n",
       "    </tr>\n",
       "    <tr>\n",
       "      <th>3</th>\n",
       "      <td>4</td>\n",
       "      <td>859744</td>\n",
       "    </tr>\n",
       "    <tr>\n",
       "      <th>4</th>\n",
       "      <td>5</td>\n",
       "      <td>897787</td>\n",
       "    </tr>\n",
       "    <tr>\n",
       "      <th>5</th>\n",
       "      <td>6</td>\n",
       "      <td>680989</td>\n",
       "    </tr>\n",
       "    <tr>\n",
       "      <th>6</th>\n",
       "      <td>7</td>\n",
       "      <td>172962</td>\n",
       "    </tr>\n",
       "    <tr>\n",
       "      <th>7</th>\n",
       "      <td>8</td>\n",
       "      <td>838603</td>\n",
       "    </tr>\n",
       "    <tr>\n",
       "      <th>8</th>\n",
       "      <td>9</td>\n",
       "      <td>827047</td>\n",
       "    </tr>\n",
       "    <tr>\n",
       "      <th>9</th>\n",
       "      <td>10</td>\n",
       "      <td>953028</td>\n",
       "    </tr>\n",
       "    <tr>\n",
       "      <th>10</th>\n",
       "      <td>11</td>\n",
       "      <td>848342</td>\n",
       "    </tr>\n",
       "    <tr>\n",
       "      <th>11</th>\n",
       "      <td>12</td>\n",
       "      <td>734224</td>\n",
       "    </tr>\n",
       "  </tbody>\n",
       "</table>\n",
       "</div>"
      ],
      "text/plain": [
       "    Month  Violation Code\n",
       "0       1          720452\n",
       "1       2          653747\n",
       "2       3          907044\n",
       "3       4          859744\n",
       "4       5          897787\n",
       "5       6          680989\n",
       "6       7          172962\n",
       "7       8          838603\n",
       "8       9          827047\n",
       "9      10          953028\n",
       "10     11          848342\n",
       "11     12          734224"
      ]
     },
     "execution_count": 10,
     "metadata": {},
     "output_type": "execute_result"
    }
   ],
   "source": [
    "df_mm"
   ]
  },
  {
   "cell_type": "code",
   "execution_count": 11,
   "id": "58735c11-bdf3-4e85-817c-2c2587164530",
   "metadata": {},
   "outputs": [
    {
     "data": {
      "text/plain": [
       "0.08"
      ]
     },
     "execution_count": 11,
     "metadata": {},
     "output_type": "execute_result"
    }
   ],
   "source": [
    "round(float(df_mm[\"Month\"].corr(df_mm[\"Violation Code\"], method=\"pearson\")), 2)"
   ]
  },
  {
   "cell_type": "code",
   "execution_count": 12,
   "id": "bd0fa05d-481a-43c6-ba46-a9ccd2830093",
   "metadata": {},
   "outputs": [
    {
     "data": {
      "text/plain": [
       "0.16"
      ]
     },
     "execution_count": 12,
     "metadata": {},
     "output_type": "execute_result"
    }
   ],
   "source": [
    "round(float(df_mm[\"Month\"].corr(df_mm[\"Violation Code\"], method=\"spearman\")), 2)"
   ]
  },
  {
   "cell_type": "code",
   "execution_count": 13,
   "id": "067e2ab8-ac19-465c-97f9-27aedbff7948",
   "metadata": {},
   "outputs": [],
   "source": [
    "df_sv=pd.DataFrame(df_cal.groupby(\"Street\")[\"Violation Code\"].value_counts()).reset_index()"
   ]
  },
  {
   "cell_type": "code",
   "execution_count": 14,
   "id": "b75eb7ce-2732-4343-8070-3ccf813d9051",
   "metadata": {},
   "outputs": [],
   "source": [
    "df_crosstab=pd.crosstab(df_cal[\"Street\"],df[\"Violation Code\"])\n"
   ]
  },
  {
   "cell_type": "code",
   "execution_count": 15,
   "id": "829ea410-f22e-4133-8bf8-19253ae5fee0",
   "metadata": {},
   "outputs": [],
   "source": [
    "#https://medium.com/@ktoprakucar/how-to-calculate-the-correlation-between-categorical-and-continuous-values-dcb7abf79406\n",
    "_, chi2_pvalue, _, _  = chi2_contingency(df_crosstab)"
   ]
  },
  {
   "cell_type": "code",
   "execution_count": 16,
   "id": "4e572237-9f34-4c93-adf6-14c17b727f57",
   "metadata": {},
   "outputs": [
    {
     "data": {
      "text/plain": [
       "0.0"
      ]
     },
     "execution_count": 16,
     "metadata": {},
     "output_type": "execute_result"
    }
   ],
   "source": [
    "chi2_pvalue"
   ]
  },
  {
   "cell_type": "code",
   "execution_count": 31,
   "id": "4d90ac4f-e003-4a1a-82b5-7c5febd7de4e",
   "metadata": {},
   "outputs": [],
   "source": [
    "df_dv=pd.DataFrame(df_cal.groupby(\"Day\")[\"Violation Code\"].count()).reset_index()"
   ]
  },
  {
   "cell_type": "code",
   "execution_count": 36,
   "id": "ea4936bc-3f7c-4911-9d8e-4f02864abcd7",
   "metadata": {},
   "outputs": [
    {
     "data": {
      "text/plain": [
       "-0.25"
      ]
     },
     "execution_count": 36,
     "metadata": {},
     "output_type": "execute_result"
    }
   ],
   "source": [
    "round(float(df_dv[\"Day\"].corr(df_dv[\"Violation Code\"], method=\"pearson\")), 2)"
   ]
  },
  {
   "cell_type": "code",
   "execution_count": 38,
   "id": "613ab369-a088-4f7e-ac8a-62285996982d",
   "metadata": {},
   "outputs": [
    {
     "data": {
      "text/plain": [
       "-0.18"
      ]
     },
     "execution_count": 38,
     "metadata": {},
     "output_type": "execute_result"
    }
   ],
   "source": [
    "round(float(df_dv[\"Day\"].corr(df_dv[\"Violation Code\"], method=\"spearman\")), 2)"
   ]
  },
  {
   "cell_type": "code",
   "execution_count": null,
   "id": "dd1b1333-680d-436a-b999-b5cfd03f1784",
   "metadata": {},
   "outputs": [],
   "source": []
  }
 ],
 "metadata": {
  "kernelspec": {
   "display_name": "Python 3 (ipykernel)",
   "language": "python",
   "name": "python3"
  },
  "language_info": {
   "codemirror_mode": {
    "name": "ipython",
    "version": 3
   },
   "file_extension": ".py",
   "mimetype": "text/x-python",
   "name": "python",
   "nbconvert_exporter": "python",
   "pygments_lexer": "ipython3",
   "version": "3.12.7"
  }
 },
 "nbformat": 4,
 "nbformat_minor": 5
}
