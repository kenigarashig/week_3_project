{
 "cells": [
  {
   "cell_type": "code",
   "execution_count": 102,
   "id": "452f0b75-a877-4708-8309-056ccce5ef8a",
   "metadata": {},
   "outputs": [],
   "source": [
    "import numpy as np\n",
    "import pandas as pd\n",
    "import matplotlib.pyplot as plt\n",
    "import seaborn as sns"
   ]
  },
  {
   "cell_type": "code",
   "execution_count": 104,
   "id": "34c6402d-a79c-47a2-a147-ae92bf1375f4",
   "metadata": {},
   "outputs": [
    {
     "name": "stderr",
     "output_type": "stream",
     "text": [
      "C:\\Users\\igara\\AppData\\Local\\Temp\\ipykernel_16224\\2757283998.py:1: DtypeWarning: Columns (18,23,29,38) have mixed types. Specify dtype option on import or set low_memory=False.\n",
      "  df=pd.read_csv(\"C:/Users/igara/Ironhack Bootcamp/Bootcamp ironhack week3/Project Week 3/Data/Parking_Violations_Issued.csv\")\n"
     ]
    }
   ],
   "source": [
    "df=pd.read_csv(\"C:/Users/igara/Ironhack Bootcamp/Bootcamp ironhack week3/Project Week 3/Data/Parking_Violations_Issued.csv\")\n"
   ]
  },
  {
   "cell_type": "code",
   "execution_count": 105,
   "id": "920f38bb-a228-4394-b075-dd4c1aa60e1d",
   "metadata": {},
   "outputs": [
    {
     "data": {
      "text/plain": [
       "0"
      ]
     },
     "execution_count": 105,
     "metadata": {},
     "output_type": "execute_result"
    }
   ],
   "source": [
    "df.duplicated().sum() #no hay rows duplicadas"
   ]
  },
  {
   "cell_type": "code",
   "execution_count": 113,
   "id": "ccc51b63-7893-4e03-a484-063dbd7d608b",
   "metadata": {},
   "outputs": [
    {
     "data": {
      "text/plain": [
       "Summons Number                             0\n",
       "Plate ID                                3612\n",
       "Registration State                         0\n",
       "Plate Type                                 0\n",
       "Issue Date                                 0\n",
       "Violation Code                             0\n",
       "Vehicle Body Type                     111377\n",
       "Vehicle Make                           63273\n",
       "Issuing Agency                             0\n",
       "Street Code1                               0\n",
       "Street Code2                               0\n",
       "Street Code3                               0\n",
       "Vehicle Expiration Date                    0\n",
       "Violation Location                    671170\n",
       "Violation Precinct                         0\n",
       "Issuer Precinct                            0\n",
       "Issuer Code                                0\n",
       "Issuer Command                        654437\n",
       "Issuer Squad                          654437\n",
       "Violation Time                          2074\n",
       "Time First Observed                  8080298\n",
       "Violation County                      705205\n",
       "Violation In Front Of Or Opposite     769191\n",
       "Number                                856317\n",
       "Street                                  4904\n",
       "Intersecting Street                  7217039\n",
       "Date First Observed                        1\n",
       "Law Section                                1\n",
       "Sub Division                             247\n",
       "Violation Legal Code                 8443771\n",
       "Days Parking In Effect               1415126\n",
       "From Hours In Effect                 3363268\n",
       "To Hours In Effect                   3363268\n",
       "Vehicle Color                          72460\n",
       "Unregistered Vehicle?                7868629\n",
       "Vehicle Year                               1\n",
       "Meter Number                         7053453\n",
       "Feet From Curb                             1\n",
       "Violation Post Code                  1884023\n",
       "Violation Description                1231653\n",
       "No Standing or Stopping Violation    9100275\n",
       "Hydrant Violation                    9100275\n",
       "Double Parking Violation             9100275\n",
       "dtype: int64"
      ]
     },
     "execution_count": 113,
     "metadata": {},
     "output_type": "execute_result"
    }
   ],
   "source": [
    "df.isna().sum()"
   ]
  },
  {
   "cell_type": "code",
   "execution_count": 114,
   "id": "a0c0f6f0-90a2-4cb4-b14e-8df51421ed3a",
   "metadata": {},
   "outputs": [],
   "source": [
    "columns_drop=df.columns[df.isna().sum()>1000000]"
   ]
  },
  {
   "cell_type": "code",
   "execution_count": 115,
   "id": "aaa1e596-2d05-4404-b9fc-b39b16617058",
   "metadata": {},
   "outputs": [
    {
     "data": {
      "text/plain": [
       "Index(['Time First Observed', 'Intersecting Street', 'Violation Legal Code',\n",
       "       'Days Parking In Effect    ', 'From Hours In Effect',\n",
       "       'To Hours In Effect', 'Unregistered Vehicle?', 'Meter Number',\n",
       "       'Violation Post Code', 'Violation Description',\n",
       "       'No Standing or Stopping Violation', 'Hydrant Violation',\n",
       "       'Double Parking Violation'],\n",
       "      dtype='object')"
      ]
     },
     "execution_count": 115,
     "metadata": {},
     "output_type": "execute_result"
    }
   ],
   "source": [
    "columns_drop"
   ]
  },
  {
   "cell_type": "code",
   "execution_count": 116,
   "id": "edf717a5-390d-4071-ac03-14ba50badb46",
   "metadata": {},
   "outputs": [],
   "source": [
    "df_clean=df.drop(columns=columns_drop)"
   ]
  },
  {
   "cell_type": "code",
   "execution_count": 117,
   "id": "463ee781-2023-4ce1-83ed-23d443938a91",
   "metadata": {},
   "outputs": [
    {
     "data": {
      "text/plain": [
       "Summons Number                            0\n",
       "Plate ID                               3612\n",
       "Registration State                        0\n",
       "Plate Type                                0\n",
       "Issue Date                                0\n",
       "Violation Code                            0\n",
       "Vehicle Body Type                    111377\n",
       "Vehicle Make                          63273\n",
       "Issuing Agency                            0\n",
       "Street Code1                              0\n",
       "Street Code2                              0\n",
       "Street Code3                              0\n",
       "Vehicle Expiration Date                   0\n",
       "Violation Location                   671170\n",
       "Violation Precinct                        0\n",
       "Issuer Precinct                           0\n",
       "Issuer Code                               0\n",
       "Issuer Command                       654437\n",
       "Issuer Squad                         654437\n",
       "Violation Time                         2074\n",
       "Violation County                     705205\n",
       "Violation In Front Of Or Opposite    769191\n",
       "Number                               856317\n",
       "Street                                 4904\n",
       "Date First Observed                       1\n",
       "Law Section                               1\n",
       "Sub Division                            247\n",
       "Vehicle Color                         72460\n",
       "Vehicle Year                              1\n",
       "Feet From Curb                            1\n",
       "dtype: int64"
      ]
     },
     "execution_count": 117,
     "metadata": {},
     "output_type": "execute_result"
    }
   ],
   "source": [
    "df_clean.isna().sum()"
   ]
  },
  {
   "cell_type": "code",
   "execution_count": 121,
   "id": "fcba5520-a619-4d07-977d-cc5e523fe6ad",
   "metadata": {},
   "outputs": [],
   "source": [
    "df_clean=df_clean.drop(columns=[\"Feet From Curb\",\"Violation Time\",\"Sub Division\",\"Date First Observed\",\"Street Code2\",\"Street Code3\",\n",
    "                                \"Vehicle Year\",\"Violation Location\",\"Number\",\"Violation County\",\"Issuer Command\",\"Issuer Squad\", \"Issuer Code\",\"Issuer Precinct\",\n",
    "                                \"Violation Precinct\",\"Vehicle Expiration Date\"])"
   ]
  },
  {
   "cell_type": "code",
   "execution_count": 123,
   "id": "19af4f25-90f8-45b7-9c22-e145dec64594",
   "metadata": {},
   "outputs": [],
   "source": [
    "top_vehicles=df_clean[\"Vehicle Make\"].value_counts()"
   ]
  },
  {
   "cell_type": "code",
   "execution_count": 125,
   "id": "79b9353b-4b55-4868-91f6-215f65cf6a5a",
   "metadata": {},
   "outputs": [],
   "source": [
    "top_vehicles=top_vehicles.sort_values(ascending=False)"
   ]
  },
  {
   "cell_type": "code",
   "execution_count": 127,
   "id": "4c0c72ad-2f98-4618-9cf9-22da4777ca45",
   "metadata": {},
   "outputs": [
    {
     "data": {
      "text/plain": [
       "Vehicle Make\n",
       "FORD     1248622\n",
       "TOYOT     878786\n",
       "HONDA     810460\n",
       "CHEVR     743556\n",
       "NISSA     655273\n",
       "DODGE     316499\n",
       "GMC       313671\n",
       "ME/BE     299845\n",
       "FRUEH     289634\n",
       "INTER     277444\n",
       "BMW       270968\n",
       "JEEP      213572\n",
       "HYUND     190631\n",
       "LEXUS     181642\n",
       "ACURA     161959\n",
       "Name: count, dtype: int64"
      ]
     },
     "execution_count": 127,
     "metadata": {},
     "output_type": "execute_result"
    }
   ],
   "source": [
    "top_vehicles=top_vehicles.head(15)\n",
    "top_vehicles"
   ]
  },
  {
   "cell_type": "code",
   "execution_count": 129,
   "id": "f8b85946-876d-450d-97fb-15d3a2e73046",
   "metadata": {},
   "outputs": [],
   "source": [
    "top_vehicles=pd.DataFrame(top_vehicles)"
   ]
  },
  {
   "cell_type": "code",
   "execution_count": 131,
   "id": "a950d7e4-dee7-4ca1-a906-11739d8c617e",
   "metadata": {},
   "outputs": [
    {
     "name": "stderr",
     "output_type": "stream",
     "text": [
      "C:\\Users\\igara\\AppData\\Local\\Temp\\ipykernel_16224\\1672431966.py:2: FutureWarning: \n",
      "\n",
      "Passing `palette` without assigning `hue` is deprecated and will be removed in v0.14.0. Assign the `x` variable to `hue` and set `legend=False` for the same effect.\n",
      "\n",
      "  sns.barplot(\n"
     ]
    },
    {
     "data": {
      "image/png": "[encoded data removed]",
      "text/plain": [
       "<Figure size 1200x600 with 1 Axes>"
      ]
     },
     "metadata": {},
     "output_type": "display_data"
    }
   ],
   "source": [
    "plt.figure(figsize=(12, 6))\n",
    "sns.barplot(\n",
    "    data=top_vehicles,\n",
    "    x=\"Vehicle Make\",\n",
    "    y=\"count\",\n",
    "    palette=\"viridis\",  \n",
    "    errorbar=None\n",
    ")\n",
    "\n",
    "plt.title(\"Quantity of Vehicles per brand\", fontsize=16, fontweight=\"bold\")\n",
    "plt.xlabel(\"Brand of vehicle\", fontsize=12)\n",
    "plt.ylabel(\"Quantity\", fontsize=12)\n",
    "plt.xticks(rotation=45, fontsize=10)  # Rotar las etiquetas del eje X\n",
    "plt.yticks(fontsize=10)\n",
    "\n",
    "\n",
    "plt.tight_layout()  # Ajustar el layout para evitar recortes\n",
    "plt.show()"
   ]
  },
  {
   "cell_type": "code",
   "execution_count": 133,
   "id": "4ff06c5c-77ee-46ff-99d1-d91f2494534d",
   "metadata": {},
   "outputs": [],
   "source": [
    "df_clean[\"Issue Date\"]=pd.to_datetime(df_clean[\"Issue Date\"])"
   ]
  },
  {
   "cell_type": "code",
   "execution_count": 134,
   "id": "d7ec4f2e-8790-4ae6-9650-1225f72202b1",
   "metadata": {},
   "outputs": [
    {
     "data": {
      "text/plain": [
       "count                          9100275\n",
       "mean     2014-01-09 00:10:36.948134400\n",
       "min                1970-12-18 00:00:00\n",
       "25%                2013-10-15 00:00:00\n",
       "50%                2014-01-09 00:00:00\n",
       "75%                2014-04-05 00:00:00\n",
       "max                2069-12-23 00:00:00\n",
       "Name: Issue Date, dtype: object"
      ]
     },
     "execution_count": 134,
     "metadata": {},
     "output_type": "execute_result"
    }
   ],
   "source": [
    "df_clean[\"Issue Date\"].describe().T"
   ]
  },
  {
   "cell_type": "code",
   "execution_count": 135,
   "id": "f3049ab7-0d50-4fc4-9673-3cde6e223704",
   "metadata": {
    "scrolled": true
   },
   "outputs": [],
   "source": [
    "df_clean_Date=df_clean.copy()\n",
    "df_clean_Date[\"Issue Date Updated\"]=df_clean[\"Issue Date\"].dt.to_period(\"M\")\n",
    "df_clean_Date[\"Year\"]=df_clean_Date[\"Issue Date\"].dt.year.astype(int)"
   ]
  },
  {
   "cell_type": "code",
   "execution_count": 138,
   "id": "d0b8fd46-5d9d-4552-be7a-06c987e68102",
   "metadata": {},
   "outputs": [
    {
     "name": "stderr",
     "output_type": "stream",
     "text": [
      "C:\\Users\\igara\\AppData\\Local\\Temp\\ipykernel_16224\\2587328962.py:2: FutureWarning: \n",
      "\n",
      "Passing `palette` without assigning `hue` is deprecated and will be removed in v0.14.0. Assign the `x` variable to `hue` and set `legend=False` for the same effect.\n",
      "\n",
      "  sns.boxplot(y=df_clean_Date[\"Year\"], palette=\"coolwarm\")\n"
     ]
    },
    {
     "data": {
      "image/png": "[encoded data removed]",
      "text/plain": [
       "<Figure size 800x600 with 1 Axes>"
      ]
     },
     "metadata": {},
     "output_type": "display_data"
    }
   ],
   "source": [
    "plt.figure(figsize=(8, 6))\n",
    "sns.boxplot(y=df_clean_Date[\"Year\"], palette=\"coolwarm\")\n",
    "plt.title(\"Boxplot Issue Date \")\n",
    "plt.ylabel(\"Year\")\n",
    "plt.show()"
   ]
  },
  {
   "cell_type": "code",
   "execution_count": 139,
   "id": "9df83651-935c-4bd3-a026-5501d1058afd",
   "metadata": {},
   "outputs": [],
   "source": [
    "Q1 = df_clean[\"Issue Date\"].quantile(0.25)\n",
    "Q3 = df_clean[\"Issue Date\"].quantile(0.75)\n",
    "IQR = Q3 - Q1\n",
    "lower_bound = Q1 - 1.5 * IQR\n",
    "upper_bound = Q3 + 1.5 * IQR\n",
    "    \n",
    "df_filter = df_clean[(df_clean[\"Issue Date\"] >= lower_bound) & (df_clean[\"Issue Date\"] <= upper_bound)]\n"
   ]
  },
  {
   "cell_type": "code",
   "execution_count": 179,
   "id": "8e9b1832-b220-448f-91b2-ac015e0c5523",
   "metadata": {},
   "outputs": [
    {
     "name": "stdout",
     "output_type": "stream",
     "text": [
      "0.8379137558394172\n"
     ]
    }
   ],
   "source": [
    "print(top_vehicles_make.head(20).sum())\n",
    "top_vehicles_make_list=top_vehicles.index"
   ]
  },
  {
   "cell_type": "code",
   "execution_count": 181,
   "id": "de00c1e9-32dc-41d8-8321-d7999e619279",
   "metadata": {},
   "outputs": [
    {
     "name": "stdout",
     "output_type": "stream",
     "text": [
      "0.9853080921159267\n"
     ]
    }
   ],
   "source": [
    "top_vehicles_body=df_filter[\"Vehicle Body Type\"].value_counts(normalize=True)\n",
    "top_vehicles_body=top_vehicles_body.sort_values(ascending=False)\n",
    "top_vehicles_body=top_vehicles_body.head(20)\n",
    "top_vehicles_body_list=top_vehicles_body.index\n",
    "print(top_vehicles_body.head(20).sum())"
   ]
  },
  {
   "cell_type": "code",
   "execution_count": 151,
   "id": "073404b7-556f-4f2c-9018-45b38b3c2cf8",
   "metadata": {},
   "outputs": [],
   "source": [
    "df_filter_2 = df_filter[(df_filter[\"Vehicle Make\"].isin(top_vehicles_make_list)) & (df_filter[\"Vehicle Body Type\"].isin(top_vehicles_body_list))]"
   ]
  },
  {
   "cell_type": "code",
   "execution_count": 169,
   "id": "da54dc91-a73b-4c04-ad27-2080d795cb5d",
   "metadata": {},
   "outputs": [],
   "source": [
    "df_filter_2.sample(500).to_csv(\"C:/Users/igara/Ironhack Bootcamp/Bootcamp ironhack week3/Project Week 3/Data/Parking_Violations_Issued_Filtered.csv\", index=False)"
   ]
  },
  {
   "cell_type": "code",
   "execution_count": 153,
   "id": "d12fcf0c-6e56-410c-8a2c-a9d3646b3dc6",
   "metadata": {},
   "outputs": [
    {
     "data": {
      "text/plain": [
       "(6694917, 14)"
      ]
     },
     "execution_count": 153,
     "metadata": {},
     "output_type": "execute_result"
    }
   ],
   "source": [
    "df_filter_2.shape"
   ]
  },
  {
   "cell_type": "code",
   "execution_count": 187,
   "id": "fe667b4e-b935-47e7-8a77-11a5f0911cf1",
   "metadata": {},
   "outputs": [],
   "source": [
    "df_filter.to_csv(\"C:/Users/igara/Ironhack Bootcamp/Bootcamp ironhack week3/Project Week 3/Data/Parking_Violations_Issued_Filtered_calculations.csv\", index=False)"
   ]
  },
  {
   "cell_type": "code",
   "execution_count": null,
   "id": "63c9b3bb-3a24-4623-b999-2933ea6d50cb",
   "metadata": {},
   "outputs": [],
   "source": []
  },
  {
   "cell_type": "code",
   "execution_count": null,
   "id": "fbcd688b-57cd-4ac4-9193-d6bbdcf6e90e",
   "metadata": {},
   "outputs": [],
   "source": []
  }
 ],
 "metadata": {
  "kernelspec": {
   "display_name": "Python 3 (ipykernel)",
   "language": "python",
   "name": "python3"
  },
  "language_info": {
   "codemirror_mode": {
    "name": "ipython",
    "version": 3
   },
   "file_extension": ".py",
   "mimetype": "text/x-python",
   "name": "python",
   "nbconvert_exporter": "python",
   "pygments_lexer": "ipython3",
   "version": "3.12.7"
  }
 },
 "nbformat": 4,
 "nbformat_minor": 5
}
