{
 "cells": [
  {
   "cell_type": "code",
   "execution_count": 1,
   "id": "c52362ef-ebb0-4bf1-b880-0e991364c380",
   "metadata": {},
   "outputs": [],
   "source": [
    "import numpy as np\n",
    "import pandas as pd"
   ]
  },
  {
   "cell_type": "code",
   "execution_count": null,
   "id": "a1bc241a-8c89-4305-8310-9b5c7c47b438",
   "metadata": {},
   "outputs": [],
   "source": [
    "df=pd.read_csv(\"C:/Users/igara/Ironhack Bootcamp/Bootcamp ironhack week3/Project Week 3/Data/Parking_Violations_Issued.csv\")"
   ]
  },
  {
   "cell_type": "code",
   "execution_count": null,
   "id": "c43b4e0d-09ae-464d-9d5d-c6ec165ad7e9",
   "metadata": {},
   "outputs": [],
   "source": [
    "df.duplicated().sum()"
   ]
  },
  {
   "cell_type": "code",
   "execution_count": null,
   "id": "5bc73a89-4c3c-4729-97c4-d44990a50068",
   "metadata": {},
   "outputs": [],
   "source": [
    "df_ny=df.copy()"
   ]
  },
  {
   "cell_type": "code",
   "execution_count": null,
   "id": "b86aadb5-6ac6-477e-bdd4-b7c29456931b",
   "metadata": {},
   "outputs": [],
   "source": [
    "df_ny[\"Violation Post Code\"].isna().value_counts()"
   ]
  },
  {
   "cell_type": "code",
   "execution_count": null,
   "id": "f34c39a9-0028-4edd-a31b-a78be71c52de",
   "metadata": {},
   "outputs": [],
   "source": [
    "df_ny[\"No Standing or Stopping Violation\"].isna().value_counts()"
   ]
  },
  {
   "cell_type": "code",
   "execution_count": null,
   "id": "8158c915-9606-4594-9f69-8080d349e310",
   "metadata": {},
   "outputs": [],
   "source": [
    "df_ny.isna().sum()"
   ]
  },
  {
   "cell_type": "code",
   "execution_count": null,
   "id": "e184b2ca-e5e7-4028-9610-d8ebfe43e729",
   "metadata": {},
   "outputs": [],
   "source": [
    "df_ny=df_ny.drop([\"No Standing or Stopping Violation\",\"Hydrant Violation\",\"Double Parking Violation\"], axis=1)"
   ]
  },
  {
   "cell_type": "code",
   "execution_count": null,
   "id": "5dd21d4b-39d6-4ac6-8c09-94e39e81317a",
   "metadata": {},
   "outputs": [],
   "source": [
    "top_vehicles=df_ny[\"Vehicle Body Type\"].value_counts(normalize=True)"
   ]
  },
  {
   "cell_type": "code",
   "execution_count": null,
   "id": "28cbcdfa-d71b-4caf-95a6-8702cbc77568",
   "metadata": {},
   "outputs": [],
   "source": [
    "top_vehicles=top_vehicles.sort_values(ascending=False)\n",
    "top_vehicles=round(top_vehicles*100,2)\n"
   ]
  },
  {
   "cell_type": "code",
   "execution_count": null,
   "id": "24413b2d-bcbd-481a-880d-adfac32b1452",
   "metadata": {},
   "outputs": [],
   "source": [
    "top_vehicles=top_vehicles.head(15)\n",
    "print(top_vehicles.sum())\n"
   ]
  },
  {
   "cell_type": "code",
   "execution_count": null,
   "id": "1cdf05d4-1f5f-4d40-b752-211426155430",
   "metadata": {},
   "outputs": [],
   "source": [
    "top_violation=df_ny[\"Violation Code\"].value_counts(normalize=True)"
   ]
  },
  {
   "cell_type": "code",
   "execution_count": null,
   "id": "e64404c4-1ceb-4f64-ab40-5f76f4697767",
   "metadata": {},
   "outputs": [],
   "source": [
    "top_violation=top_violation.sort_values(ascending=False)\n",
    "top_violation=round(top_violation*100,2)\n"
   ]
  },
  {
   "cell_type": "code",
   "execution_count": null,
   "id": "501b8933-1d82-40f1-9507-966a8884b0bf",
   "metadata": {},
   "outputs": [],
   "source": [
    "top_violation=top_violation.head(20)\n",
    "top_violation.sum()\n"
   ]
  },
  {
   "cell_type": "code",
   "execution_count": null,
   "id": "295dadfd-32c1-408f-bc5c-b2b5357fbd74",
   "metadata": {},
   "outputs": [],
   "source": [
    "top_vehicles"
   ]
  },
  {
   "cell_type": "code",
   "execution_count": null,
   "id": "0e18c8f8-11ba-4261-87a2-92cad1f2bba8",
   "metadata": {},
   "outputs": [],
   "source": [
    "top_violation"
   ]
  },
  {
   "cell_type": "code",
   "execution_count": null,
   "id": "074ebdfd-cbc0-4e9d-8940-8967635dcaa3",
   "metadata": {},
   "outputs": [],
   "source": [
    "top_vehicles_list=top_vehicles.index\n",
    "top_violation_list=top_violation.index"
   ]
  },
  {
   "cell_type": "code",
   "execution_count": null,
   "id": "71b4ba37-f38c-456f-bd1e-51797bcdd50b",
   "metadata": {},
   "outputs": [],
   "source": [
    "df_comparation_vc=df_ny[(df_ny[\"Vehicle Body Type\"].isin(top_vehicles_list))&(df_ny[\"Violation Code\"].isin(top_violation_list))]"
   ]
  },
  {
   "cell_type": "code",
   "execution_count": null,
   "id": "18a1eda0-6ffd-4ef1-9c81-caabb7079578",
   "metadata": {},
   "outputs": [],
   "source": [
    "crosstab_vc=pd.crosstab(df_comparation_vc[\"Violation Code\"],df_comparation_vc[\"Vehicle Body Type\"])"
   ]
  },
  {
   "cell_type": "code",
   "execution_count": null,
   "id": "a8f0ee95-13bd-420c-ba2a-aaf889f932f9",
   "metadata": {},
   "outputs": [],
   "source": [
    "crosstab_vc.sample(10)"
   ]
  },
  {
   "cell_type": "code",
   "execution_count": null,
   "id": "3a0d7e70-ee47-4305-9db4-f7b12856782c",
   "metadata": {},
   "outputs": [],
   "source": [
    "violation_count_per_vehicle=pd.DataFrame(df_comparation_vc.groupby(\"Vehicle Body Type\")[\"Violation Code\"].value_counts())\n"
   ]
  },
  {
   "cell_type": "code",
   "execution_count": null,
   "id": "c65ac860-003c-4de3-947d-d26a29893018",
   "metadata": {},
   "outputs": [],
   "source": [
    "violation_count_per_vehicle=violation_count_per_vehicle.groupby(\"Vehicle Body Type\").idxmax().reset_index()"
   ]
  },
  {
   "cell_type": "code",
   "execution_count": null,
   "id": "3d351e00-32e6-40a0-bca5-f5c8821d7ff6",
   "metadata": {},
   "outputs": [],
   "source": [
    "violation_count_per_vehicle[\"count\"]=violation_count_per_vehicle[\"count\"].apply(lambda x:x[1]) "
   ]
  },
  {
   "cell_type": "code",
   "execution_count": null,
   "id": "8b9c2ed7-9e83-4705-82d8-4d1474eb6831",
   "metadata": {},
   "outputs": [],
   "source": [
    "violation_count_per_vehicle=violation_count_per_vehicle.rename(columns={\"count\":\"Most common violation code\"})\n"
   ]
  },
  {
   "cell_type": "code",
   "execution_count": null,
   "id": "9105dbc0-b4d9-4cf3-85fb-dfd40b06619f",
   "metadata": {},
   "outputs": [],
   "source": [
    "\"\"\"¿Cuál es la infracción más común por tipo de vehículo (Vehicle Body Type)?\"\"\""
   ]
  },
  {
   "cell_type": "code",
   "execution_count": null,
   "id": "b174a82e-4ed6-44b7-a6af-086fa2055221",
   "metadata": {},
   "outputs": [],
   "source": [
    "violation_count_per_vehicle"
   ]
  },
  {
   "cell_type": "code",
   "execution_count": null,
   "id": "a7f21eee-a9f4-4236-bbe3-96f326eb00fe",
   "metadata": {},
   "outputs": [],
   "source": [
    "\"\"\"¿Qué marca de vehículo (Vehicle Make) recibe más multas?\"\"\"\n"
   ]
  },
  {
   "cell_type": "code",
   "execution_count": null,
   "id": "7b612689-711f-4e47-99cf-ce2fc74fcca5",
   "metadata": {},
   "outputs": [],
   "source": [
    "top_vehicles_make=df_ny[\"Vehicle Make\"].value_counts(normalize=True)\n",
    "top_vehicles_make=top_vehicles_make.sort_values(ascending=False)\n",
    "top_vehicles_make=round(top_vehicles_make*100)\n",
    "top_vehicles_make.head(30).sum()"
   ]
  },
  {
   "cell_type": "code",
   "execution_count": null,
   "id": "a3315c6a-4505-4aed-a28e-06caf9ab6834",
   "metadata": {},
   "outputs": [],
   "source": [
    "top_vehicles_make=top_vehicles_make.head(30)"
   ]
  },
  {
   "cell_type": "code",
   "execution_count": null,
   "id": "c76ee042-55f7-4ca9-9207-b0754a13a33f",
   "metadata": {},
   "outputs": [],
   "source": [
    "top_vehicles_make_list=top_vehicles_make.index"
   ]
  },
  {
   "cell_type": "code",
   "execution_count": null,
   "id": "6c296c05-7898-4c32-a1ef-7589628e23b9",
   "metadata": {},
   "outputs": [],
   "source": [
    "df_comparation_vm=df_ny[(df_ny[\"Vehicle Make\"].isin(top_vehicles_make_list))]\n",
    "multas_count_per_vehicle=pd.DataFrame(df_comparation_vm.groupby(\"Vehicle Make\")[\"Violation Code\"].count())"
   ]
  },
  {
   "cell_type": "code",
   "execution_count": null,
   "id": "28fb0602-2582-40f5-bb5e-a9f054d12d2b",
   "metadata": {},
   "outputs": [],
   "source": [
    "multas_count_per_vehicle=multas_count_per_vehicle.rename(columns={\"Violation Code\":\"Violation Count\"})"
   ]
  },
  {
   "cell_type": "code",
   "execution_count": null,
   "id": "a7ee5a75-0cfa-46d0-b09f-8d3226f6ae4a",
   "metadata": {},
   "outputs": [],
   "source": [
    "multas_count_per_vehicle=multas_count_per_vehicle.sort_values(by=\"Violation Count\",ascending=False)\n"
   ]
  },
  {
   "cell_type": "code",
   "execution_count": null,
   "id": "9395a9a1-4e23-4601-9240-271ee5163d0d",
   "metadata": {},
   "outputs": [],
   "source": [
    "top_vehicles_make_df = pd.DataFrame(top_vehicles_make)\n",
    "tabla_for_everyone=pd.concat([multas_count_per_vehicle, top_vehicles_make_df], axis=1)\n",
    "tabla_for_everyone"
   ]
  },
  {
   "cell_type": "code",
   "execution_count": null,
   "id": "7b6d37ff-45a3-4d0e-930e-a279664fe13a",
   "metadata": {},
   "outputs": [],
   "source": [
    "\"\"\"¿Qué marca de vehículo (Vehicle Make) recibe más multas?\"\"\"\n",
    "tabla_for_everyone.head(1)"
   ]
  },
  {
   "cell_type": "code",
   "execution_count": null,
   "id": "bd967bfc-ab42-4795-8f4e-1d85e154f5ba",
   "metadata": {},
   "outputs": [],
   "source": []
  },
  {
   "cell_type": "code",
   "execution_count": null,
   "id": "d412eff3-6f2d-482c-a372-cd786b4b1633",
   "metadata": {},
   "outputs": [],
   "source": []
  },
  {
   "cell_type": "code",
   "execution_count": null,
   "id": "e9ce8581-b0b3-4846-ad61-3dec1d8d6125",
   "metadata": {},
   "outputs": [],
   "source": []
  },
  {
   "cell_type": "code",
   "execution_count": null,
   "id": "d26cbdb8-6301-4407-abe9-4088ed841c2c",
   "metadata": {},
   "outputs": [],
   "source": []
  }
 ],
 "metadata": {
  "kernelspec": {
   "display_name": "Python 3 (ipykernel)",
   "language": "python",
   "name": "python3"
  },
  "language_info": {
   "codemirror_mode": {
    "name": "ipython",
    "version": 3
   },
   "file_extension": ".py",
   "mimetype": "text/x-python",
   "name": "python",
   "nbconvert_exporter": "python",
   "pygments_lexer": "ipython3",
   "version": "3.12.7"
  }
 },
 "nbformat": 4,
 "nbformat_minor": 5
}
